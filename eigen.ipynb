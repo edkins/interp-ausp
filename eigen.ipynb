{
 "cells": [
  {
   "cell_type": "code",
   "execution_count": 2,
   "id": "d83bfc83",
   "metadata": {},
   "outputs": [
    {
     "name": "stdout",
     "output_type": "stream",
     "text": [
      "Using cpu device\n",
      "Loading model: gpt2\n"
     ]
    },
    {
     "name": "stderr",
     "output_type": "stream",
     "text": [
      "/home/giles/.local/lib/python3.10/site-packages/torch/cuda/__init__.py:83: UserWarning: CUDA initialization: CUDA unknown error - this may be due to an incorrectly set up environment, e.g. changing env variable CUDA_VISIBLE_DEVICES after program start. Setting the available devices to be zero. (Triggered internally at  ../c10/cuda/CUDAFunctions.cpp:109.)\n",
      "  return torch._C._cuda_getDeviceCount() > 0\n",
      "Using pad_token, but it is not set yet.\n"
     ]
    },
    {
     "name": "stdout",
     "output_type": "stream",
     "text": [
      "Moving model to device:  cpu\n",
      "Finished loading pretrained model gpt2 into EasyTransformer!\n",
      "Moving model to device:  cpu\n",
      "torch.Size([768, 50257]) torch.Size([50257, 768]) 768 50257\n"
     ]
    }
   ],
   "source": [
    "import torch\n",
    "from easy_transformer import EasyTransformer\n",
    "\n",
    "#device = 'cuda' if torch.cuda.is_available() else 'cpu'\n",
    "device = 'cpu'\n",
    "print(f\"Using {device} device\")\n",
    "torch.set_grad_enabled(False)\n",
    "\n",
    "model = EasyTransformer.from_pretrained('gpt2').to(device)\n",
    "\n",
    "# Convenience function for decoding token\n",
    "decode = model.tokenizer.decode\n",
    "\n",
    "# Convenience function for encoding token\n",
    "def encode(t):\n",
    "    global model\n",
    "    result = model.tokenizer.encode(t)\n",
    "    if len(result) != 1:\n",
    "        raise Exception(f\"Not a single token: {t}\")\n",
    "    return result[0]\n",
    "\n",
    "unembed = model.unembed.W_U.data\n",
    "embed = model.embed.W_E.data\n",
    "d_M = model.cfg.d_model\n",
    "d_V = model.cfg.d_vocab\n",
    "\n",
    "print(unembed.shape, embed.shape, d_M, d_V)"
   ]
  },
  {
   "cell_type": "code",
   "execution_count": 40,
   "id": "41dfeb8e",
   "metadata": {},
   "outputs": [
    {
     "name": "stdout",
     "output_type": "stream",
     "text": [
      "+++ Eigenvector 0+++ ((11843.9267578125+0j))\n",
      "DragonMagazine      Dispatch            Cola                Community           STEM                Sport               \n",
      " tightening          prone               scrambling          breathing           propensity          imperson           \n",
      "+++ Eigenvector 1+++ ((8358.009765625+0j))\n",
      " tremend             carbohyd            challeng           undai                confir              satell             \n",
      " Bull                Holiday             Deer                Diamond             Derby               Beaver             \n",
      "+++ Eigenvector 2+++ ((6802.81884765625+0j))\n",
      "Data                Recommend           Program             User                Current             Use                 \n",
      " Canaver             tyr                ��                   Seym                tiss                tremend            \n",
      "+++ Eigenvector 3+++ ((5722.22216796875+0j))\n",
      " behavi             CLASSIFIED           Organizations      PDATE                Policies            Occupations        \n",
      "ch                  rub                 aw                  bo                  ble                 gar                 \n",
      "+++ Eigenvector 4+++ ((5189.73486328125+0j))\n",
      " Judicial            constitutional      affirmed            constitutionally    discredited         eminent            \n",
      " crates              plugs               pickups             torches             gadgets             carts              \n",
      "+++ Eigenvector 5+++ ((5140.8017578125+0j))\n",
      "ients               rals                 administrations    icultural           urches               institutions       \n",
      " �                  CLASSIFIED          ゴン                  ワン                  Magikarp            ▬                   \n",
      "+++ Eigenvector 6+++ ((4733.921875+0j))\n",
      "ibaba                capacitor           srf                 carbohyd            calibration        imum                \n",
      "Friends             Terror              Faith               Sad                 Evil                Fear                \n",
      "+++ Eigenvector 7+++ ((4484.2119140625+0j))\n",
      "htaking             uctor                Transformation      Subtle             uyomi               izoph               \n",
      "237                 530                 107                 383                 398                 NJ                  \n",
      "+++ Eigenvector 8+++ ((4279.27783203125+0j))\n",
      "Netflix             FBI                 Privacy             Disney              Portland            Seattle             \n",
      " oun                 possesses           commanded           distinguishes       Asc                 preceded           \n",
      "+++ Eigenvector 9+++ ((4137.5205078125+0j))\n",
      "anwhile              hauled              raided              bailed              towed               totaled            \n",
      "Scient              Latin               Syn                 Poly                Ec                  Ancient             \n",
      "+++ Eigenvector 10+++ ((3836.200439453125+0j))\n",
      " Armored            Terror               Siege              Destroy             Military             Destruction        \n",
      " humor               jokes               pronoun             lik                 commenting          quizz              \n",
      "+++ Eigenvector 11+++ ((3701.186279296875+0j))\n",
      " acidic              Healthy             Autism              Calories            Protein            orically            \n",
      " requ                bribe               smugg               courier             garrison            envoy              \n",
      "+++ Eigenvector 12+++ ((3683.950439453125+0j))\n",
      " Anger              666                  betrayal           332                  Abuse               malice             \n",
      " commercially        subsidized         quartered            marketed            toured              stocked            \n",
      "+++ Eigenvector 13+++ ((3656.093505859375+0j))\n",
      " FANTASY            版                    homage              glorious            commemorate         celebration        \n",
      "pressure             toxins              poisoning           contamin           infect              lethal              \n",
      "+++ Eigenvector 14+++ ((3551.549072265625+0j))\n",
      "Measure             Spring               toile              Whe                 Fill                Flor                \n",
      " ISIS                terrorists          hijacked            hacked              hacker              hackers            \n",
      "+++ Eigenvector 15+++ ((3428.348876953125+0j))\n",
      "Walker               theorist            plotted             integrating        Alexander            Clarke             \n",
      " Alcohol             Calories            Drinking            Ingredients         WOM                 Flavoring          \n",
      "+++ Eigenvector 16+++ ((3321.20751953125+0j))\n",
      " competitiveness     momentum            optimism           �                    greatness           bullish            \n",
      " ingested            implanted           abducted            interrogated        raped               infected           \n",
      "+++ Eigenvector 17+++ ((3169.675537109375+0j))\n",
      "ODY                 IENCE               OHN                 URA                 HAEL                 athletic           \n",
      "txt                 text                 WhatsApp            Wikileaks           URLs               csv                 \n",
      "+++ Eigenvector 18+++ ((3132.625732421875+0j))\n",
      " felon              crim                 comprom             tyrann              egreg               brut               \n",
      " Thailand            Indonesia           Myanmar             Istanbul           ğ                    Ramadan            \n",
      "+++ Eigenvector 19+++ ((2977.844970703125+0j))\n",
      "selling             training             photograp          doing               gaming              learning            \n",
      "Parser              Column              Tree                Integer             TextColor           Root                \n",
      "+++ Eigenvector 20+++ ((2967.287841796875+0j))\n",
      "OTOS                ROR                 APH                 OLOG                ILLE                USS                 \n",
      " 神                  giving              buy                  karma              growth              seed                \n",
      "+++ Eigenvector 21+++ ((2937.44873046875+0j))\n",
      " visitation          Savannah            LDS                 Asheville           Appalachian         Oregon             \n",
      "594                 591                  bribery             aluminium          nikov               aganda              \n",
      "+++ Eigenvector 22+++ ((2882.87890625+0j))\n",
      " preached            predicts            Debate              erupted             summarizes          explodes           \n",
      "Customer             cumbersome         Items               Magikarp            Accessory           Delivery            \n",
      "+++ Eigenvector 23+++ ((2829.695556640625+0j))\n",
      "agate               ocaly                reinvent            enrich             ocalypse             ruin               \n",
      "matched             stretched           sword               weight              strength            fighter             \n",
      "+++ Eigenvector 24+++ ((2730.3369140625+0j))\n",
      "abilia              atro                ascar               Columb              Italian              Franch             \n",
      " Insight             Hedge               scept               Peer                Knowledge           Wisdom             \n",
      "+++ Eigenvector 25+++ ((2702.29443359375+0j))\n",
      " neighb             Agg                 Population           overcrowd           clust              uckland             \n",
      " Metatron            SIL                 FIRE                ELECT               DOE                 DARK               \n",
      "+++ Eigenvector 26+++ ((2669.701904296875+0j))\n",
      "clus                 honoring            labeling            organizing         ��                  ospons              \n",
      "£                    analyse             realise             Edinburgh           realised            £                  \n",
      "+++ Eigenvector 27+++ ((2634.248291015625+0j))\n",
      " Engels              constructing        Marx                Adolf               Eisenhower          EQU                \n",
      "jri                  pric               prem                confirmed            elig                testim             \n",
      "+++ Eigenvector 28+++ ((2588.171142578125+0j))\n",
      "ERY                 ORY                 TING                MAT                  grading            WOOD                \n",
      "elect                electors            affirm              Oculus              awake               Elect              \n"
     ]
    },
    {
     "name": "stdout",
     "output_type": "stream",
     "text": [
      "+++ Eigenvector 29+++ ((2547.2490234375+0j))\n",
      " yak                Arizona              Yak                 sage                meteor             lahoma              \n",
      " mould               sexuality           UKIP                paed                Notting             ITV                \n",
      "+++ Eigenvector 30+++ ((2505.23974609375+0j))\n",
      " vocational         Tok                  canceled           三                   Shin                 postponed          \n",
      " Britons             analys             avour                Niger              yip                  Australians        \n",
      "+++ Eigenvector 31+++ ((2493.446533203125+0j))\n",
      " habitat             habitats            camouflage          skirt               encompasses         silhouette         \n",
      "perors              ournaments          ithing               fasting            rowing               coughing           \n",
      "+++ Eigenvector 32+++ ((2441.568603515625+0j))\n",
      "女                    Billion             depos               Pik                 Yuri               �                   \n",
      " Arabic             apache               vim                Authent              preached            brewed             \n",
      "+++ Eigenvector 33+++ ((2391.962890625+0j))\n",
      " eSports             infring             infringing          esports             infringement        Esports            \n",
      " nurse               Maria               Worker              Claudia             Rita                planner            \n",
      "+++ Eigenvector 34+++ ((2385.930419921875+0j))\n",
      " millenn             Sheikh              dyn                 worsh               Imam                unemploy           \n",
      "コ                   く                   ビ                   モ                   ワ                   チ                   \n",
      "+++ Eigenvector 35+++ ((2353.82958984375+0j))\n",
      "atten               alg                  appendix           aid                 append              addon               \n",
      " Nero                Mesa                Santiago           phis                 Torres              Rico               \n",
      "+++ Eigenvector 36+++ ((2330.009521484375+0j))\n",
      " handshake           crocod              Kenya               surg                Haiti               Honduras           \n",
      "Steam               ズ                   Beer                【                   beer                 kW                 \n",
      "+++ Eigenvector 37+++ ((2308.760009765625+0j))\n",
      "ヘ                   ム                   ナ                   スト                  ドラ                  ィ                   \n",
      " introducing         tweaking            voicing             senate              TN                  Uni                \n",
      "+++ Eigenvector 38+++ ((2285.75048828125+0j))\n",
      " clandestine         simultaneous        transmitter         promoters           cassette            initiation         \n",
      " Ily                 {{                  Elise              �                    img                rust                \n",
      "+++ Eigenvector 39+++ ((2281.142578125+0j))\n",
      "�                   �                    BALL                ANG                 Organization        JO                 \n",
      " minim               downgrade           wipe                minimize            debunk              shave              \n",
      "+++ Eigenvector 40+++ ((2268.95751953125+0j))\n",
      " Czech               Baltic             zech                 KGB                 Lithuania          Russ                \n",
      " Nasa                Apollo              canopy              apes                Zoo                 Jindal             \n",
      "+++ Eigenvector 41+++ ((2219.766357421875+0j))\n",
      "ffield               grassroots         utenberg            ryu                 aughs               iky                 \n",
      " Zot                 Italians            SOLD                Sloven              Orient              pessim             \n",
      "+++ Eigenvector 42+++ ((2227.2939453125+0j))\n",
      " Labyrinth           labyrinth           inappropriately     Arkham              Palace              Dungeon            \n",
      " transmissions       migration           relocation          diesel             iesel                settlers           \n",
      "+++ Eigenvector 43+++ ((2196.879638671875+0j))\n",
      " orbit               bunker              payload            etheus               Chern               orbiting           \n",
      " poets              �                    dealers             Dominican          indu                �                   \n",
      "+++ Eigenvector 44+++ ((2150.564453125+0j))\n",
      " arithmetic          assassinated        outnumbered         assass             elligence            IQ                 \n",
      "�                   �                   ッド                  č                   Sym                 ğ                   \n",
      "+++ Eigenvector 45+++ ((2134.977783203125+0j))\n",
      " Santorum            Limbaugh            Akin                Abrams              skim                Slate              \n",
      "ウス                  ミ                   ワン                  龍�                  ォ                   ケ                   \n",
      "+++ Eigenvector 46+++ ((2120.760986328125+0j))\n",
      "Font                 Fra                Fra                  Merkel              Font                Gest               \n",
      "aution               nodd                Tant               duct                estial               Riy                \n",
      "+++ Eigenvector 47+++ ((2114.13232421875+0j))\n",
      " hel                ogly                 reimb               HEL                 kosher              Ae                 \n",
      "plant                Kang                Utt                 Sasuke              Shogun             vm                  \n",
      "+++ Eigenvector 48+++ ((2087.67919921875+0j))\n",
      " Cic                 epile               Unic                Ukip                Norwich             Flyers             \n",
      "malink               reefs               reef               redits               dams                dam                \n",
      "+++ Eigenvector 49+++ ((2084.48388671875+0j))\n",
      " Marketable         agher                improv              evapor             angu                culus               \n",
      "Sax                 Hop                  Niet                Ludwig             akedown             Route               \n"
     ]
    }
   ],
   "source": [
    "embed2 = torch.linalg.pinv(unembed)\n",
    "\n",
    "matrix = torch.matmul(unembed, embed)\n",
    "eigenvalues, eig = torch.linalg.eig(matrix)\n",
    "eig = eig.real.T\n",
    "\n",
    "for i in range(50):\n",
    "    v = eig[i,:]\n",
    "    logits = torch.matmul(v, unembed)\n",
    "    values = [(v.item(), t) for t,v in enumerate(logits)]\n",
    "    values.sort(reverse=True)\n",
    "    print(f'+++ Eigenvector {i}+++ ({eigenvalues[i].item()})')\n",
    "    string = ''\n",
    "    for val, t in values[:6]:\n",
    "        string += f'{decode(t):20}'\n",
    "    print(string)\n",
    "    string = ''\n",
    "    for val, t in values[-6:]:\n",
    "        string += f'{decode(t):20}'\n",
    "    print(string)"
   ]
  },
  {
   "cell_type": "code",
   "execution_count": 41,
   "id": "a4043462",
   "metadata": {},
   "outputs": [
    {
     "data": {
      "text/plain": [
       "[<matplotlib.lines.Line2D at 0x6482173a75e0>]"
      ]
     },
     "execution_count": 41,
     "metadata": {},
     "output_type": "execute_result"
    },
    {
     "data": {
      "image/png": "[encoded data removed]",
      "text/plain": [
       "<Figure size 432x288 with 1 Axes>"
      ]
     },
     "metadata": {
      "needs_background": "light"
     },
     "output_type": "display_data"
    }
   ],
   "source": [
    "import matplotlib.pyplot as plt\n",
    "\n",
    "plt.plot(range(d_M), eigenvalues.real)"
   ]
  },
  {
   "cell_type": "code",
   "execution_count": 9,
   "id": "ea7be4cf",
   "metadata": {},
   "outputs": [
    {
     "name": "stdout",
     "output_type": "stream",
     "text": [
      "torch.Size([768, 50])\n",
      "+++ Vector 0+++ \n",
      "Dispatch            Community           Kids                Motor               Stars               NAS                 \n",
      " raiding             breathing           prone               stocking            propensity          imperson           \n",
      "+++ Vector 1+++ \n",
      " Derby               Beaver              Discovery           Bull                Deer                Pearl              \n",
      "sembly              ntil                 carbohyd            tremend            merce               undai               \n",
      "+++ Vector 2+++ \n",
      "ogun                anamo               arcity              ibaba               rique               igree               \n",
      "Recommend           PRES                CLASS               Recomm              CONCLUS             DATA                \n",
      "+++ Vector 3+++ \n",
      " behavi              conflic             millenn            ��                   mathemat           ailability          \n",
      "mar                 h                   sh                  f                   boy                 w                   \n",
      "+++ Vector 4+++ \n",
      " corrid              millenn             suspic              enthusi            BuyableInstoreAndOnline tremend            \n",
      " Output              Release             Updates             Tools               Input               Options            \n"
     ]
    }
   ],
   "source": [
    "from sklearn.decomposition import TruncatedSVD\n",
    "U = torch.tensor(TruncatedSVD(n_components=50).fit_transform(unembed))\n",
    "print(U.shape)\n",
    "\n",
    "for i,v in enumerate(U.T[:5,:]):\n",
    "    logits = torch.matmul(v, unembed)\n",
    "    values = [(v.item(), t) for t,v in enumerate(logits)]\n",
    "    values.sort(reverse=True)\n",
    "    print(f'+++ Vector {i}+++ ')\n",
    "    string = ''\n",
    "    for val, t in values[:6]:\n",
    "        string += f'{decode(t):20}'\n",
    "    print(string)\n",
    "    string = ''\n",
    "    for val, t in values[-6:]:\n",
    "        string += f'{decode(t):20}'\n",
    "    print(string)"
   ]
  }
 ],
 "metadata": {
  "kernelspec": {
   "display_name": "Python 3 (ipykernel)",
   "language": "python",
   "name": "python3"
  },
  "language_info": {
   "codemirror_mode": {
    "name": "ipython",
    "version": 3
   },
   "file_extension": ".py",
   "mimetype": "text/x-python",
   "name": "python",
   "nbconvert_exporter": "python",
   "pygments_lexer": "ipython3",
   "version": "3.10.8"
  }
 },
 "nbformat": 4,
 "nbformat_minor": 5
}
