{
 "cells": [
  {
   "cell_type": "code",
   "execution_count": 1,
   "id": "6ad75fd7",
   "metadata": {},
   "outputs": [
    {
     "name": "stdout",
     "output_type": "stream",
     "text": [
      "Using cpu device\n",
      "Loading model: gpt2\n"
     ]
    },
    {
     "name": "stderr",
     "output_type": "stream",
     "text": [
      "/home/giles/.local/lib/python3.10/site-packages/torch/cuda/__init__.py:83: UserWarning: CUDA initialization: CUDA unknown error - this may be due to an incorrectly set up environment, e.g. changing env variable CUDA_VISIBLE_DEVICES after program start. Setting the available devices to be zero. (Triggered internally at  ../c10/cuda/CUDAFunctions.cpp:109.)\n",
      "  return torch._C._cuda_getDeviceCount() > 0\n",
      "Using pad_token, but it is not set yet.\n"
     ]
    },
    {
     "name": "stdout",
     "output_type": "stream",
     "text": [
      "Moving model to device:  cpu\n",
      "Finished loading pretrained model gpt2 into EasyTransformer!\n",
      "Moving model to device:  cpu\n"
     ]
    }
   ],
   "source": [
    "import torch\n",
    "from easy_transformer import EasyTransformer\n",
    "\n",
    "#device = 'cuda' if torch.cuda.is_available() else 'cpu'\n",
    "device = 'cpu'\n",
    "print(f\"Using {device} device\")\n",
    "torch.set_grad_enabled(False)\n",
    "\n",
    "model = EasyTransformer.from_pretrained('gpt2').to(device)\n",
    "\n",
    "# Convenience function for decoding token\n",
    "decode = model.tokenizer.decode\n",
    "\n",
    "# Convenience function for encoding token\n",
    "def encode(t):\n",
    "    global model\n",
    "    result = model.tokenizer.encode(t)\n",
    "    if len(result) != 1:\n",
    "        raise Exception(f\"Not a single token: {t}\")\n",
    "    return result[0]\n",
    "\n",
    "unembed = model.unembed.W_U.data\n",
    "embed = model.embed.W_E.data\n",
    "d_M = model.cfg.d_model\n",
    "d_V = model.cfg.d_vocab\n",
    "\n",
    "unembed_norm = torch.nn.functional.normalize(unembed, dim=0)"
   ]
  },
  {
   "cell_type": "code",
   "execution_count": 57,
   "id": "d0364d00",
   "metadata": {},
   "outputs": [
    {
     "name": "stdout",
     "output_type": "stream",
     "text": [
      "55.4127 % are negative\n"
     ]
    },
    {
     "data": {
      "image/png": "[encoded data removed]",
      "text/plain": [
       "<Figure size 1152x576 with 1 Axes>"
      ]
     },
     "metadata": {
      "needs_background": "light"
     },
     "output_type": "display_data"
    }
   ],
   "source": [
    "import matplotlib.pyplot as plt\n",
    "\n",
    "n = 1000000\n",
    "n_bins = 1000\n",
    "generator = torch.Generator()\n",
    "generator.manual_seed(12345)\n",
    "ts0 = torch.randint(0, d_V, (n,), generator=generator)\n",
    "ts1 = torch.randint(0, d_V, (n,), generator=generator)\n",
    "fs0 = unembed_norm[:,ts0]\n",
    "fs1 = unembed_norm[:,ts1]\n",
    "#ds = torch.linalg.vector_norm(fs0 - fs1, dim=0)\n",
    "ds = (fs0 * fs1).sum(dim=0)\n",
    "hist, bin_edges = torch.histogram(ds, n_bins)\n",
    "cumsum = torch.cumsum(hist,dim=0)\n",
    "\n",
    "plt.rcParams['figure.figsize'] = [16, 8]\n",
    "plt.bar(bin_edges[:-1], hist, bin_edges[1:] - bin_edges[:-1])\n",
    "plt.axvline(0, color='r')\n",
    "\n",
    "print((ds < 0).sum().item() / n * 100, '% are negative')"
   ]
  },
  {
   "cell_type": "code",
   "execution_count": 68,
   "id": "6d91ff5f",
   "metadata": {},
   "outputs": [
    {
     "name": "stdout",
     "output_type": "stream",
     "text": [
      "torch.Size([73, 1])\n",
      " scalp               YING                \n",
      "Europe                attendant          \n",
      " declining           Texture             \n",
      " Optical              partying           \n",
      "\u0007                     14                 \n",
      " push                Property            \n",
      " Nolan                capac              \n",
      "Tour                  masked             \n",
      " ecological          027                 \n",
      " Sw                   carbohyd           \n",
      " subconscious        Update              \n",
      "DCS                   hunter             \n",
      " monument            �                   \n",
      " encrypt             Sports              \n",
      "270                   phony              \n",
      "Sol                   obst               \n",
      "54                   �                   \n",
      "Alternatively         honors             \n",
      "Lake                  revers             \n",
      " behavi               February           \n",
      "endants               Week               \n",
      " is                  \u000f                   \n",
      "Increase              clandestine        \n",
      " cataly              Lord                \n",
      "*                     RandomRedditor     \n",
      " fairy               Members             \n",
      "540                   invading           \n",
      " lingu               Stay                \n",
      " Accessories          skewed             \n",
      "Stephen               preservation       \n",
      " Besides              inadvert           \n",
      " accumulated         Farm                \n",
      " clown               San                 \n",
      " dem                 Allen               \n",
      "Jack                  consulate          \n",
      " Series               congest            \n",
      "stars                 burglary           \n",
      "Pre                   eccentric          \n",
      "Thread                negotiated         \n",
      "Meet                  suppression        \n",
      " (                   aditional           \n",
      " symp                Officials           \n",
      "embedreportprint     ]                   \n",
      " hacked              Brown               \n",
      " negligence          atmeal              \n",
      " ferv                Smart               \n",
      "Rules                 supermarket        \n",
      "),                   �                   \n",
      " consec               Guess              \n",
      "]                    ÃÂÃÂÃÂÃÂ            \n",
      "\u001f                    ]                   \n",
      " trash               FE                  \n",
      " polluted            Hard                \n",
      "101                   erratic            \n",
      " 4000                gemony              \n",
      " sexual              Yan                 \n",
      " =                   \t                   \n",
      "Iss                   plaster            \n",
      "Ice                   substant           \n",
      " disinteg            Works               \n",
      "Marvel                stranded           \n",
      "\r",
      "                    s                   \n",
      "Want                  erad               \n",
      " computational       Morning             \n",
      "69                   embedreportprint    \n",
      " samurai             App                 \n",
      " psych               Oil                 \n",
      " producing           Mis                 \n",
      "Evil                  cascade            \n",
      "Blog                  slaughter          \n",
      " catast              506                 \n",
      "Dave                  fled               \n",
      " elephant            Que                 \n"
     ]
    }
   ],
   "source": [
    "\n",
    "indices = torch.nonzero(ds < -0.2)\n",
    "print(indices.shape)\n",
    "for index in indices:\n",
    "    print(f'{decode(ts0[index]):20}', f'{decode(ts1[index]):20}')"
   ]
  },
  {
   "cell_type": "code",
   "execution_count": 56,
   "id": "e834158d",
   "metadata": {},
   "outputs": [
    {
     "name": "stdout",
     "output_type": "stream",
     "text": [
      "50.0235 % are negative\n"
     ]
    },
    {
     "data": {
      "image/png": "[encoded data removed]",
      "text/plain": [
       "<Figure size 1152x576 with 1 Axes>"
      ]
     },
     "metadata": {
      "needs_background": "light"
     },
     "output_type": "display_data"
    }
   ],
   "source": [
    "generator = torch.Generator()\n",
    "generator.manual_seed(12344)\n",
    "\n",
    "random = torch.normal(0, 1, unembed.shape)\n",
    "random_norm = torch.nn.functional.normalize(random, dim=0)\n",
    "\n",
    "n = 1000000\n",
    "n_bins = 1000\n",
    "generator = torch.Generator()\n",
    "generator.manual_seed(12345)\n",
    "ts0 = torch.randint(0, d_V, (n,), generator=generator)\n",
    "ts1 = torch.randint(0, d_V, (n,), generator=generator)\n",
    "fs0 = random_norm[:,ts0]\n",
    "fs1 = random_norm[:,ts1]\n",
    "#ds = torch.linalg.vector_norm(fs0 - fs1, dim=0)\n",
    "ds = (fs0 * fs1).sum(dim=0)\n",
    "hist, bin_edges = torch.histogram(ds, n_bins)\n",
    "cumsum = torch.cumsum(hist,dim=0)\n",
    "\n",
    "plt.rcParams['figure.figsize'] = [16, 8]\n",
    "plt.bar(bin_edges[:-1], hist, bin_edges[1:] - bin_edges[:-1])\n",
    "plt.axvline(0, color='r')\n",
    "\n",
    "print((ds < 0).sum().item() / n * 100, '% are negative')"
   ]
  }
 ],
 "metadata": {
  "kernelspec": {
   "display_name": "Python 3 (ipykernel)",
   "language": "python",
   "name": "python3"
  },
  "language_info": {
   "codemirror_mode": {
    "name": "ipython",
    "version": 3
   },
   "file_extension": ".py",
   "mimetype": "text/x-python",
   "name": "python",
   "nbconvert_exporter": "python",
   "pygments_lexer": "ipython3",
   "version": "3.10.8"
  }
 },
 "nbformat": 4,
 "nbformat_minor": 5
}
