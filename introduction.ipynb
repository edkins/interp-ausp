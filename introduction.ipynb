{
 "cells": [
  {
   "cell_type": "markdown",
   "id": "b9b70e9d",
   "metadata": {},
   "source": [
    "The final few layers of a language transformer model are the unembedding. The job of these layers is to turn a vector (in the \"model space\") into a probability distribution over tokens.\n",
    "\n",
    "In the case of gpt2-small, the model space is 768-dimensional and the token vocabulary size is 50257.\n",
    "\n",
    "This consists of:\n",
    "- a learned unembedding _matrix_\n",
    "- a learned _bias vector_, which outputs _logits_\n",
    "- a fixed _softmax layer_, which outputs _probabilities_\n",
    "\n",
    "Let's go in reverse and look at the softmax layer first. We'll use a toy example for illustration with a very small vocabulary, but the concepts generalize to a larger vocabulary."
   ]
  },
  {
   "cell_type": "code",
   "execution_count": 24,
   "id": "4b5fbc05",
   "metadata": {},
   "outputs": [
    {
     "name": "stdout",
     "output_type": "stream",
     "text": [
      "Vocab size = 7\n",
      "Logits = tensor([ 1.4271, -1.8701, -1.1962, -2.0440, -0.4560, -1.4295, -0.7175])\n",
      "Most likely = 0 cat\n",
      "Probs = tensor([0.6815, 0.0252, 0.0495, 0.0212, 0.1037, 0.0392, 0.0798])\n",
      "     cat        0.6815164685249329\n",
      "     dog        0.025206468999385834\n",
      "     pig        0.049450863152742386\n",
      "     squirrel   0.021183840930461884\n",
      "     the        0.10366861522197723\n",
      "     of         0.03916327282786369\n",
      "     and        0.07981050759553909\n"
     ]
    }
   ],
   "source": [
    "import torch\n",
    "\n",
    "# Our example vocabulary\n",
    "vocab = ['cat','dog','pig','squirrel','the','of','and']\n",
    "\n",
    "# The number of words in the vocabulary (or the \"dimension\" of the logit and probability spaces)\n",
    "d_V = len(vocab)\n",
    "print(f\"Vocab size = {d_V}\")\n",
    "\n",
    "# Generate a random vector of logits (the input to softmax). The generator just makes sure this returns the same answer each time\n",
    "generator = torch.Generator()\n",
    "generator.manual_seed(12345)\n",
    "logits = torch.normal(mean=0.0, std=1.0, size=(d_V,), generator=generator)\n",
    "\n",
    "print('Logits =', logits)\n",
    "\n",
    "# See which word has the greatest logit. This will be the \"most likely\" in the probability distribution\n",
    "# We print both the index and the corresponding string token\n",
    "most_likely = torch.argmax(logits).item()\n",
    "print(f'Most likely =', most_likely, vocab[most_likely])\n",
    "\n",
    "# Now put it through softmax to obtain the probabilities\n",
    "probs = torch.nn.functional.softmax(logits, dim=0)\n",
    "\n",
    "# Enumerate the probability vector, showing corresponding tokens\n",
    "def print_example_probs(probs):\n",
    "    print('Probs =', probs)\n",
    "    for i in range(d_V):\n",
    "        print('    ', f'{vocab[i]:10}', probs[i].item())\n",
    "print_example_probs(probs)"
   ]
  },
  {
   "cell_type": "markdown",
   "id": "d84ecd53",
   "metadata": {},
   "source": [
    "Softmax has some interesting properties. In particular:\n",
    "- Adding a uniform value to each logit leaves the output of softmax unchanged. Softmax only cares about how much things are bigger and smaller than each other, not their actual values\n",
    "- Scaling the vector up (multiplying by a real number >1) will increase the certainty, i.e. make the most likely value more likely\n",
    "- Scaling the vector down (multiplying by a real number <1) will have the opposite effect, making the distribution flatter."
   ]
  },
  {
   "cell_type": "code",
   "execution_count": 20,
   "id": "6f45a71a",
   "metadata": {},
   "outputs": [
    {
     "name": "stdout",
     "output_type": "stream",
     "text": [
      "Original:\n",
      "Probs = tensor([0.6815, 0.0252, 0.0495, 0.0212, 0.1037, 0.0392, 0.0798])\n",
      "\n",
      "Adding 17 elementwise (this comes out the same):\n",
      "Probs = tensor([0.6815, 0.0252, 0.0495, 0.0212, 0.1037, 0.0392, 0.0798])\n",
      "\n",
      "Multiplying by 2 (makes it more certain):\n",
      "Probs = tensor([9.5442e-01, 1.3056e-03, 5.0250e-03, 9.2214e-04, 2.2084e-02, 3.1517e-03,\n",
      "        1.3089e-02])\n",
      "\n",
      "Multiplying by 0.5 (makes it less certain):\n",
      "Probs = tensor([0.3832, 0.0737, 0.1032, 0.0676, 0.1494, 0.0918, 0.1311])\n"
     ]
    }
   ],
   "source": [
    "print('Original:')\n",
    "print(f'Probs =', torch.nn.functional.softmax(logits, dim=0))\n",
    "print()\n",
    "print('Adding 17 elementwise (this comes out the same):')\n",
    "print(f'Probs =', torch.nn.functional.softmax(logits + 17, dim=0))\n",
    "print()\n",
    "print('Multiplying by 2 (makes it more certain):')\n",
    "print(f'Probs =', torch.nn.functional.softmax(logits * 2, dim=0))\n",
    "print()\n",
    "print('Multiplying by 0.5 (makes it less certain):')\n",
    "print(f'Probs =', torch.nn.functional.softmax(logits * 0.5, dim=0))"
   ]
  },
  {
   "cell_type": "code",
   "execution_count": 22,
   "id": "1339d165",
   "metadata": {},
   "outputs": [
    {
     "name": "stdout",
     "output_type": "stream",
     "text": [
      "Note that if the softmax layer is given a vector of zeros, it will output equal probability for every token\n",
      "This is ok in our toy example, but in the real dictionary a lot of the tokens are very rare/complete garbage.\n",
      "We don't want to output equal probability for those.\n",
      "Probs = tensor([0.1429, 0.1429, 0.1429, 0.1429, 0.1429, 0.1429, 0.1429])\n"
     ]
    }
   ],
   "source": [
    "print(\"Note that if the softmax layer is given a vector of zeros, it will output equal probability for every token\")\n",
    "print(\"This is ok in our toy example, but in the real dictionary a lot of the tokens are very rare/complete garbage.\")\n",
    "print(\"We don't want to output equal probability for those.\")\n",
    "zeros = torch.zeros((d_V,))\n",
    "print(f'Probs =', torch.nn.functional.softmax(zeros))"
   ]
  },
  {
   "cell_type": "markdown",
   "id": "a7e9ccab",
   "metadata": {},
   "source": [
    "Now that we understand softmax, let's look at the previous layers.\n",
    "\n",
    "Because some tokens are a lot more probable than others (in general), it helps to have a \"bias layer\" that adds the approximate token commonness to each token, before the softmax is applied. This can be \"overridden\" in some sense - given a sufficiently large vector identifying one particular token, that token will still win even if the bias layer is against it."
   ]
  },
  {
   "cell_type": "code",
   "execution_count": 31,
   "id": "efa02ac4",
   "metadata": {},
   "outputs": [
    {
     "name": "stdout",
     "output_type": "stream",
     "text": [
      "Original (without bias vector):\n",
      "Probs = tensor([0.6815, 0.0252, 0.0495, 0.0212, 0.1037, 0.0392, 0.0798])\n",
      "     cat        0.6815164685249329\n",
      "     dog        0.025206468999385834\n",
      "     pig        0.049450863152742386\n",
      "     squirrel   0.021183840930461884\n",
      "     the        0.10366861522197723\n",
      "     of         0.03916327282786369\n",
      "     and        0.07981050759553909\n",
      "\n",
      "With bias vector added:\n",
      "Probs = tensor([0.5061, 0.0187, 0.0223, 0.0035, 0.2093, 0.0791, 0.1611])\n",
      "     cat        0.506083607673645\n",
      "     dog        0.01871793530881405\n",
      "     pig        0.022272685542702675\n",
      "     squirrel   0.003510014619678259\n",
      "     the        0.2092607021331787\n",
      "     of         0.07905318588018417\n",
      "     and        0.1611018180847168\n",
      "\n",
      "If the original vector is large enough, it can overcome the bias and the squirrel wins\n",
      "Probs = tensor([0.0039, 0.0039, 0.0024, 0.9579, 0.0106, 0.0106, 0.0106])\n",
      "     cat        0.0039146095514297485\n",
      "     dog        0.0039146095514297485\n",
      "     pig        0.0023743310011923313\n",
      "     squirrel   0.9578734040260315\n",
      "     the        0.010641012340784073\n",
      "     of         0.010641012340784073\n",
      "     and        0.010641012340784073\n"
     ]
    }
   ],
   "source": [
    "bias = torch.tensor([1.0, 1.0, 0.5, -0.5, 2.0, 2.0, 2.0])\n",
    "\n",
    "print(\"Original (without bias vector):\")\n",
    "print_example_probs(torch.nn.functional.softmax(logits, dim=0))\n",
    "\n",
    "print()\n",
    "print(\"With bias vector added:\")\n",
    "print_example_probs(torch.nn.functional.softmax(logits + bias, dim=0))\n",
    "\n",
    "print()\n",
    "print(\"If the original vector is large enough, it can overcome the bias and the squirrel wins\")\n",
    "big_squirrel_logits = torch.tensor([0, 0, 0, 7, 0, 0, 0])\n",
    "print_example_probs(torch.nn.functional.softmax(big_squirrel_logits + bias, dim=0))"
   ]
  },
  {
   "cell_type": "markdown",
   "id": "02f52ed9",
   "metadata": {},
   "source": [
    "It's important not to forget the bias vector is there. But, we're not going to focus on it here.\n",
    "\n",
    "Instead, we'll be looking at the weights matrix. This can be thought of as a linear map from the model's internal vector space to the token logit space.\n",
    "\n",
    "In this artificial example, we'll be pretending the model space is two dimensional. This is unrealistic but will help with visualizations."
   ]
  },
  {
   "cell_type": "code",
   "execution_count": 48,
   "id": "fb6d6755",
   "metadata": {},
   "outputs": [
    {
     "name": "stdout",
     "output_type": "stream",
     "text": [
      "torch.Size([2, 7])\n"
     ]
    },
    {
     "data": {
      "image/png": "[encoded data removed]",
      "text/plain": [
       "<Figure size 576x576 with 1 Axes>"
      ]
     },
     "metadata": {
      "needs_background": "light"
     },
     "output_type": "display_data"
    }
   ],
   "source": [
    "import math\n",
    "import matplotlib.pyplot as plt\n",
    "plt.rcParams['figure.figsize'] = [8, 8]\n",
    "\n",
    "ts = [0, 0.5, 1, 2, 4, 4.5, 5]\n",
    "\n",
    "# The weights matrix\n",
    "M_to_V = torch.tensor([[math.cos(t), math.sin(t)] for t in ts]).T\n",
    "print(M_to_V.shape)\n",
    "\n",
    "plt.scatter(M_to_V[0,:], M_to_V[1,:], color=(0,0.9,1))\n",
    "for t in range(d_V):\n",
    "    plt.text(M_to_V[0,t], M_to_V[1,t], vocab[t])"
   ]
  },
  {
   "cell_type": "code",
   "execution_count": null,
   "id": "7f5e5f6a",
   "metadata": {},
   "outputs": [],
   "source": []
  }
 ],
 "metadata": {
  "kernelspec": {
   "display_name": "Python 3 (ipykernel)",
   "language": "python",
   "name": "python3"
  },
  "language_info": {
   "codemirror_mode": {
    "name": "ipython",
    "version": 3
   },
   "file_extension": ".py",
   "mimetype": "text/x-python",
   "name": "python",
   "nbconvert_exporter": "python",
   "pygments_lexer": "ipython3",
   "version": "3.10.8"
  }
 },
 "nbformat": 4,
 "nbformat_minor": 5
}
