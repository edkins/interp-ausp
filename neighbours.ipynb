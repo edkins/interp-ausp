{
 "cells": [
  {
   "cell_type": "code",
   "execution_count": 1,
   "id": "ac2c5d85",
   "metadata": {},
   "outputs": [],
   "source": [
    "%matplotlib widget"
   ]
  },
  {
   "cell_type": "code",
   "execution_count": 2,
   "id": "0750d746",
   "metadata": {},
   "outputs": [
    {
     "name": "stderr",
     "output_type": "stream",
     "text": [
      "/home/giles/.local/lib/python3.10/site-packages/torch/cuda/__init__.py:83: UserWarning: CUDA initialization: CUDA unknown error - this may be due to an incorrectly set up environment, e.g. changing env variable CUDA_VISIBLE_DEVICES after program start. Setting the available devices to be zero. (Triggered internally at  ../c10/cuda/CUDAFunctions.cpp:109.)\n",
      "  return torch._C._cuda_getDeviceCount() > 0\n"
     ]
    },
    {
     "name": "stdout",
     "output_type": "stream",
     "text": [
      "Using cpu device\n",
      "Loading model: gpt2\n"
     ]
    },
    {
     "name": "stderr",
     "output_type": "stream",
     "text": [
      "Using pad_token, but it is not set yet.\n"
     ]
    },
    {
     "name": "stdout",
     "output_type": "stream",
     "text": [
      "Moving model to device:  cpu\n",
      "Finished loading pretrained model gpt2 into EasyTransformer!\n",
      "Moving model to device:  cpu\n"
     ]
    }
   ],
   "source": [
    "# First we grab the model and the unembedding weight matrix\n",
    "import torch\n",
    "from easy_transformer import EasyTransformer\n",
    "\n",
    "device = 'cuda' if torch.cuda.is_available() else 'cpu'\n",
    "#device = 'cpu'\n",
    "print(f\"Using {device} device\")\n",
    "torch.set_grad_enabled(False)\n",
    "\n",
    "model = EasyTransformer.from_pretrained('gpt2').to(device)\n",
    "\n",
    "# Convenience function for decoding token\n",
    "decode = model.tokenizer.decode\n",
    "\n",
    "unembed = model.unembed.W_U.data\n",
    "d_model = model.cfg.d_model\n",
    "d_vocab = model.cfg.d_vocab"
   ]
  },
  {
   "cell_type": "code",
   "execution_count": 3,
   "id": "daa53d32",
   "metadata": {},
   "outputs": [],
   "source": [
    "ausp = torch.nn.functional.normalize(torch.linalg.pinv(unembed.to('cpu')), dim=1)"
   ]
  },
  {
   "cell_type": "code",
   "execution_count": 17,
   "id": "b6e7c3da",
   "metadata": {},
   "outputs": [
    {
     "name": "stdout",
     "output_type": "stream",
     "text": [
      "  0.9999999403953552  cat                             0.0   1.0000001192092896\n",
      " 0.07929762452840805  Cat              -1.036684274673462   0.5645228028297424\n",
      " 0.36347606778144836 cat              -1.0856115818023682  0.42552128434181213\n",
      " 0.07540363073348999  cats            -1.1090970039367676   0.5671601295471191\n",
      "0.058433420956134796 Cat              -1.1182819604873657   0.4754162132740021\n",
      "  0.3631359040737152  Cats             -1.451160192489624    0.359244704246521\n",
      " 0.03059900552034378 cats             -1.4670222997665405   0.3103601932525635\n",
      " 0.17044615745544434  CAT              -1.578359603881836   0.3349841833114624\n",
      "-0.008014477789402008  dog             -1.6610358357429504   0.3743366003036499\n",
      "-0.040606603026390076  kitten           -1.700634777545929   0.2816951274871826\n",
      " 0.22325390577316284  catcher          -1.787339448928833   0.2676182985305786\n",
      " 0.10287782549858093  kittens         -1.8044873476028442   0.2652002274990082\n",
      "-0.20099559426307678  rabbit          -1.9148352146148682  0.22215314209461212\n",
      "-0.05645442754030228  Catalyst        -1.9516249895095825   0.1735813021659851\n",
      "  0.2628905177116394  pet              -1.967032253742218  0.22508090734481812\n",
      "-0.04786241799592972  goat             -1.967161238193512  0.21765321493148804\n",
      " 0.36383071541786194  Kitty           -1.9982707500457764  0.17923659086227417\n",
      "  0.1337757557630539  fel             -1.9999836683273315  0.18037012219429016\n",
      "  0.1664116531610489 abbit            -2.0090107917785645  0.14810103178024292\n",
      "0.010843321681022644  dogs             -2.010192632675171   0.2128528207540512\n",
      " 0.34353721141815186 PET               -2.012703776359558  0.15581442415714264\n",
      " 0.13635200262069702  tom             -2.0169917941093445  0.16426974534988403\n",
      "-0.11213307082653046  animal           -2.022852599620819  0.21738451719284058\n",
      " 0.05670016258955002  Dog              -2.027203321456909  0.19578474760055542\n",
      " 0.17167767882347107  mog              -2.036521077156067  0.16170406341552734\n",
      "-0.14207085967063904  Veter            -2.040808081626892  0.14588651061058044\n",
      "  0.2617378830909729  tiger            -2.051078110933304  0.19278401136398315\n",
      " -0.1646462082862854  rat              -2.051300883293152  0.18203836679458618\n",
      " 0.04106251150369644 dog              -2.0575022399425507  0.14785978198051453\n",
      "-0.09460672736167908  pand            -2.0583199858665466  0.15426209568977356\n",
      "-0.09391888976097107  PET             -2.0621090829372406   0.1631649285554886\n",
      " 0.12288402765989304  chap             -2.069124937057495  0.14514954388141632\n",
      " 0.22522112727165222 ャ                -2.0717249512672424  0.11387240886688232\n",
      "  0.2392977625131607 awk               -2.074336498975754   0.1299942135810852\n",
      "0.019186772406101227  canine          -2.0752903521060944  0.16552996635437012\n",
      "   0.390385240316391  ls              -2.0769569277763367   0.1623428612947464\n",
      " 0.10908821225166321  comet           -2.0778753757476807  0.16245795786380768\n",
      "  0.1219249963760376  pets            -2.0841645002365112  0.17378835380077362\n",
      " 0.23694448173046112 eline             -2.086535483598709  0.12208275496959686\n",
      "-0.17378099262714386 Dog              -2.0870382487773895   0.1595243364572525\n",
      " 0.18594282865524292  puppy            -2.093195080757141   0.1706060767173767\n",
      "  0.1132655143737793 !/               -2.0943413972854614  0.10959827899932861\n",
      "-0.06858578324317932  ape              -2.094467908143997  0.15201710164546967\n",
      "-0.19303348660469055 Pet               -2.099419444799423   0.1589319258928299\n",
      "  0.1530454456806183  bunny            -2.099922776222229  0.15759266912937164\n",
      " 0.11675781011581421  Charlie          -2.100903630256653  0.17722146213054657\n",
      "-0.10009342432022095 Animal           -2.1028130650520325   0.1598339080810547\n",
      " 0.09451622515916824  veterinarian     -2.105442136526108  0.15804220736026764\n",
      " -0.2671559154987335 itar              -2.105472981929779  0.10773378610610962\n",
      " 0.41533103585243225 rador            -2.1066580712795258  0.10271705687046051\n"
     ]
    }
   ],
   "source": [
    "import math\n",
    "starting_tok = ' cat'\n",
    "sorting = 'dot'     # dot ausp unembed\n",
    "starting_t, = model.tokenizer.encode(starting_tok)\n",
    "\n",
    "values = torch.matmul(ausp, ausp[starting_t,:])\n",
    "uvalues = torch.matmul(ausp[starting_t,:], unembed)\n",
    "cosine_sim = torch.nn.CosineSimilarity(dim=0)\n",
    "\n",
    "def unembed_score(t):\n",
    "    utvalues = torch.matmul(ausp[t,:], unembed)\n",
    "    return cosine_sim(uvalues, utvalues)\n",
    "\n",
    "values = [(v.item(),i,uvalues[i].item() - uvalues[starting_t].item()) for i,v in enumerate(values)]\n",
    "if sorting == 'uasp':\n",
    "    values.sort(reverse=True)\n",
    "elif sorting == 'dot':\n",
    "    values.sort(key=lambda v:v[2], reverse=True)\n",
    "else:\n",
    "    raise Exception(\"No such sorting\")\n",
    "    \n",
    "for i in range(50):\n",
    "    t = values[i][1]\n",
    "    print(f'{values[i][0]:20}', f'{decode(t):15}', f'{values[i][2]:20}', f'{unembed_score(t):20}')\n"
   ]
  },
  {
   "cell_type": "code",
   "execution_count": 5,
   "id": "4301d24a",
   "metadata": {},
   "outputs": [],
   "source": [
    "wanted = 5000\n",
    "logits = torch.matmul(ausp[:wanted,:], ausp[:wanted,:].T)"
   ]
  },
  {
   "cell_type": "code",
   "execution_count": 6,
   "id": "53c17ce6",
   "metadata": {},
   "outputs": [
    {
     "name": "stderr",
     "output_type": "stream",
     "text": [
      "/home/giles/.local/lib/python3.10/site-packages/sklearn/manifold/_t_sne.py:795: FutureWarning: The default initialization in TSNE will change from 'random' to 'pca' in 1.2.\n",
      "  warnings.warn(\n",
      "/home/giles/.local/lib/python3.10/site-packages/sklearn/manifold/_t_sne.py:805: FutureWarning: The default learning rate in TSNE will change from 200.0 to 'auto' in 1.2.\n",
      "  warnings.warn(\n"
     ]
    },
    {
     "name": "stdout",
     "output_type": "stream",
     "text": [
      "[t-SNE] Computing 91 nearest neighbors...\n",
      "[t-SNE] Indexed 5000 samples in 0.046s...\n",
      "[t-SNE] Computed neighbors for 5000 samples in 0.312s...\n",
      "[t-SNE] Computed conditional probabilities for sample 1000 / 5000\n",
      "[t-SNE] Computed conditional probabilities for sample 2000 / 5000\n",
      "[t-SNE] Computed conditional probabilities for sample 3000 / 5000\n",
      "[t-SNE] Computed conditional probabilities for sample 4000 / 5000\n",
      "[t-SNE] Computed conditional probabilities for sample 5000 / 5000\n",
      "[t-SNE] Mean sigma: 0.061407\n",
      "[t-SNE] Computed conditional probabilities in 0.133s\n",
      "[t-SNE] Iteration 50: error = 98.2690887, gradient norm = 0.2193233 (50 iterations in 1.290s)\n",
      "[t-SNE] Iteration 100: error = 98.7448959, gradient norm = 0.1663137 (50 iterations in 1.188s)\n",
      "[t-SNE] Iteration 150: error = 97.9777298, gradient norm = 0.1918240 (50 iterations in 1.030s)\n",
      "[t-SNE] Iteration 200: error = 99.9186935, gradient norm = 0.1790054 (50 iterations in 0.902s)\n",
      "[t-SNE] Iteration 250: error = 101.1616058, gradient norm = 0.1506124 (50 iterations in 0.982s)\n",
      "[t-SNE] KL divergence after 250 iterations with early exaggeration: 101.161606\n",
      "[t-SNE] Iteration 300: error = 3.3666925, gradient norm = 0.0049999 (50 iterations in 0.809s)\n",
      "[t-SNE] Iteration 350: error = 2.9028966, gradient norm = 0.0024185 (50 iterations in 0.846s)\n",
      "[t-SNE] Iteration 400: error = 2.7861450, gradient norm = 0.0003537 (50 iterations in 0.926s)\n",
      "[t-SNE] Iteration 450: error = 2.5962880, gradient norm = 0.0014805 (50 iterations in 1.051s)\n",
      "[t-SNE] Iteration 500: error = 2.5497112, gradient norm = 0.0002372 (50 iterations in 0.713s)\n",
      "[t-SNE] Iteration 550: error = 2.5341258, gradient norm = 0.0001330 (50 iterations in 0.711s)\n",
      "[t-SNE] Iteration 600: error = 2.5202184, gradient norm = 0.0001103 (50 iterations in 0.712s)\n",
      "[t-SNE] Iteration 650: error = 2.5091512, gradient norm = 0.0001046 (50 iterations in 0.704s)\n",
      "[t-SNE] Iteration 700: error = 2.5004096, gradient norm = 0.0000905 (50 iterations in 0.702s)\n",
      "[t-SNE] Iteration 750: error = 2.4929216, gradient norm = 0.0000811 (50 iterations in 0.712s)\n",
      "[t-SNE] Iteration 800: error = 2.4870358, gradient norm = 0.0000709 (50 iterations in 0.705s)\n",
      "[t-SNE] Iteration 850: error = 2.4821384, gradient norm = 0.0000644 (50 iterations in 0.703s)\n",
      "[t-SNE] Iteration 900: error = 2.4776757, gradient norm = 0.0000597 (50 iterations in 0.713s)\n",
      "[t-SNE] Iteration 950: error = 2.4737508, gradient norm = 0.0000603 (50 iterations in 0.701s)\n",
      "[t-SNE] Iteration 1000: error = 2.4703188, gradient norm = 0.0000590 (50 iterations in 0.700s)\n",
      "[t-SNE] KL divergence after 1000 iterations: 2.470319\n"
     ]
    }
   ],
   "source": [
    "from sklearn.manifold import TSNE\n",
    "\n",
    "distances = torch.clamp(torch.diag(logits).reshape((wanted, 1)).expand((wanted, wanted)) - logits, 0, None).numpy()\n",
    "\n",
    "xy = TSNE(n_components=2, verbose=2, metric='precomputed').fit_transform(distances)"
   ]
  },
  {
   "cell_type": "code",
   "execution_count": 11,
   "id": "b706c607",
   "metadata": {},
   "outputs": [
    {
     "data": {
      "text/plain": [
       "<matplotlib.collections.PathCollection at 0x6b022f8953c0>"
      ]
     },
     "execution_count": 11,
     "metadata": {},
     "output_type": "execute_result"
    }
   ],
   "source": [
    "import matplotlib.pyplot as plt\n",
    "plt.rcParams['figure.figsize'] = [8, 8]\n",
    "plt.scatter(xy[:,0], xy[:,1], picker=True)"
   ]
  }
 ],
 "metadata": {
  "kernelspec": {
   "display_name": "Python 3 (ipykernel)",
   "language": "python",
   "name": "python3"
  },
  "language_info": {
   "codemirror_mode": {
    "name": "ipython",
    "version": 3
   },
   "file_extension": ".py",
   "mimetype": "text/x-python",
   "name": "python",
   "nbconvert_exporter": "python",
   "pygments_lexer": "ipython3",
   "version": "3.10.8"
  }
 },
 "nbformat": 4,
 "nbformat_minor": 5
}
