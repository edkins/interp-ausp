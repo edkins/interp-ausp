{
 "cells": [
  {
   "cell_type": "code",
   "execution_count": 1,
   "id": "8b3bfb2d",
   "metadata": {},
   "outputs": [
    {
     "name": "stderr",
     "output_type": "stream",
     "text": [
      "/home/giles/.local/lib/python3.10/site-packages/torch/cuda/__init__.py:83: UserWarning: CUDA initialization: CUDA unknown error - this may be due to an incorrectly set up environment, e.g. changing env variable CUDA_VISIBLE_DEVICES after program start. Setting the available devices to be zero. (Triggered internally at  ../c10/cuda/CUDAFunctions.cpp:109.)\n",
      "  return torch._C._cuda_getDeviceCount() > 0\n"
     ]
    },
    {
     "name": "stdout",
     "output_type": "stream",
     "text": [
      "Using cpu device\n",
      "Loading model: gpt2\n"
     ]
    },
    {
     "name": "stderr",
     "output_type": "stream",
     "text": [
      "Using pad_token, but it is not set yet.\n"
     ]
    },
    {
     "name": "stdout",
     "output_type": "stream",
     "text": [
      "Moving model to device:  cpu\n",
      "Finished loading pretrained model gpt2 into EasyTransformer!\n",
      "Moving model to device:  cpu\n"
     ]
    }
   ],
   "source": [
    "# First we grab the model and the unembedding weight matrix\n",
    "import torch\n",
    "from easy_transformer import EasyTransformer\n",
    "\n",
    "device = 'cuda' if torch.cuda.is_available() else 'cpu'\n",
    "#device = 'cpu'\n",
    "print(f\"Using {device} device\")\n",
    "torch.set_grad_enabled(False)\n",
    "\n",
    "model = EasyTransformer.from_pretrained('gpt2').to(device)\n",
    "\n",
    "unembed = model.unembed.W_U.data\n",
    "unembed_bias = model.unembed.b_U.data\n",
    "d_model = model.cfg.d_model\n",
    "d_vocab = model.cfg.d_vocab"
   ]
  },
  {
   "cell_type": "code",
   "execution_count": 2,
   "id": "37aa2228",
   "metadata": {},
   "outputs": [],
   "source": [
    "    \n",
    "# Convenience function for decoding token\n",
    "decode = model.tokenizer.decode\n",
    "\n",
    "def decode_pad(t):\n",
    "    string = decode(t)\n",
    "    return f'{string:10}'\n",
    "\n",
    "# Turn the embedding vector into a set of token probabilities\n",
    "def embed_vector_to_probs(v):\n",
    "    if v.shape != (d_model,):\n",
    "        raise Exception(f\"Shape should be [{d_model}], got {v.shape}\")\n",
    "    logits = torch.matmul(v.to(device), unembed)\n",
    "    return torch.nn.functional.softmax(logits, dim=0)\n",
    "\n",
    "# A function for understanding a vector in embedding space\n",
    "def print_embed_vector(v):\n",
    "    if v.shape != (d_model,):\n",
    "        raise Exception(f\"Shape should be [{d_model}], got {v.shape}\")\n",
    "    logits = torch.matmul(v.to(device), unembed)\n",
    "    probs = torch.nn.functional.softmax(logits, dim=0)\n",
    "    values = [(v.item(),i) for i,v in enumerate(logits)]\n",
    "    values.sort(reverse=True)\n",
    "    for i in range(10):\n",
    "        j = values[i][1]\n",
    "        print(f'{decode_pad(j)} {values[i][0]} {probs[j]}')\n",
    "    print('  ...')\n",
    "    for i in range(d_vocab-5,d_vocab):\n",
    "        j = values[i][1]\n",
    "        print(f'{decode_pad(j)} {values[i][0]} {probs[j]}')\n"
   ]
  },
  {
   "cell_type": "code",
   "execution_count": 3,
   "id": "62833dbc",
   "metadata": {},
   "outputs": [
    {
     "name": "stderr",
     "output_type": "stream",
     "text": [
      "[nltk_data] Downloading package omw-1.4 to /home/giles/nltk_data...\n",
      "[nltk_data]   Package omw-1.4 is already up-to-date!\n",
      "[nltk_data] Downloading package wordnet to /home/giles/nltk_data...\n",
      "[nltk_data]   Package wordnet is already up-to-date!\n"
     ]
    },
    {
     "name": "stdout",
     "output_type": "stream",
     "text": [
      "[' cyan', ' stiff', ' emergence', ' venom', ' midnight', ' prosperity', ' groin', ' tablespoon', ' hearing', ' compact', ' challenge', ' preference', ' dating', ' tongue', ' role', ' height', ' capacitor', ' chat', ' civilization', ' siege', ' salad', ' profiling', ' constraint', ' shoulder', ' undergraduate', ' stranger', ' cooperation', ' fingerprint', ' tell', ' ancestry', ' concussion', ' substantive', ' ceremony', ' inspection', ' awakening', ' pedestrian', ' upset', ' riot', ' ranch', ' motel', ' drive', ' technique', ' puck', ' traction', ' poem', ' counselor', ' graves', ' gray', ' space', ' interchange', ' ob', ' listing', ' decimal', ' recoil', ' affairs', ' fabric', ' football', ' peak', ' grain', ' song', ' bartender', ' karma', ' government', ' totalitarian', ' transistor', ' stag', ' ordinance', ' intoxication', ' loader', ' noon', ' panel', ' arsenic', ' assignment', ' kid', ' visitation', ' conservatism', ' cere', ' traitor', ' lack', ' gall', ' indic', ' god', ' confinement', ' bus', ' tournament', ' price', ' playlist', ' envy', ' trick', ' collection', ' helicopter', ' attainment', ' talk', ' dug', ' scenery', ' cause', ' reactor', ' carving', ' nature', ' neck']\n"
     ]
    }
   ],
   "source": [
    "# Choose some nouns from nltk\n",
    "from nltk.corpus import wordnet as wn\n",
    "import nltk\n",
    "nltk.download('omw-1.4')\n",
    "nltk.download('wordnet')\n",
    "\n",
    "num_wanted = 100\n",
    "seen = set()\n",
    "chosen_tokens = []\n",
    "for synset in wn.all_synsets('n'):\n",
    "    tok = ' ' + synset.name().split('.')[0]\n",
    "    enc = model.tokenizer.encode(tok)\n",
    "    if len(enc) == 1 and tok not in seen:\n",
    "        chosen_tokens.append(enc[0])\n",
    "        seen.add(tok)\n",
    "\n",
    "import random\n",
    "random.seed(12345)\n",
    "chosen_tokens = random.sample(chosen_tokens, k=num_wanted)\n",
    "        \n",
    "print(list(decode(t) for t in chosen_tokens))"
   ]
  },
  {
   "cell_type": "code",
   "execution_count": 4,
   "id": "9ae8c32f",
   "metadata": {},
   "outputs": [
    {
     "name": "stdout",
     "output_type": "stream",
     "text": [
      " cyan\n",
      " cyan      3.4879157543182373 0.0006448631756938994\n",
      " Cyan      1.8392478227615356 0.0001240109995706007\n",
      " blue      0.7618908286094666 4.22250377596356e-05\n",
      " purple    0.7578718662261963 4.205567529425025e-05\n",
      " Zy        0.7333407402038574 4.103655010112561e-05\n",
      " anth      0.7308653593063354 4.093509051017463e-05\n",
      " Purple    0.697922945022583 3.960856338380836e-05\n",
      " arsenic   0.6949665546417236 3.949163874494843e-05\n",
      " yellow    0.6649718284606934 3.832468792097643e-05\n",
      " pink      0.6600260138511658 3.8135607610456645e-05\n",
      "  ...\n",
      "kw         -0.514163613319397 1.1786545655922964e-05\n",
      "pheus      -0.5188753008842468 1.1731141967175063e-05\n",
      "WOR        -0.5266374349594116 1.164043897006195e-05\n",
      "ihad       -0.5471030473709106 1.1404628821765073e-05\n",
      "elle       -0.61856609582901 1.0618058695399668e-05\n",
      "\n",
      " stiff\n",
      " stiff     2.902953863143921 0.00035984168061986566\n",
      " stiffness 0.8167327046394348 4.467628968995996e-05\n",
      " rigid     0.8114137053489685 4.443929356057197e-05\n",
      " stern     0.7992160320281982 4.390052708913572e-05\n",
      " tougher   0.7759547829627991 4.289112621336244e-05\n",
      " stout     0.7500787377357483 4.17955125158187e-05\n",
      " Strong    0.6879025101661682 3.927596480934881e-05\n",
      " tough     0.6580341458320618 3.812020077020861e-05\n",
      " fierce    0.6321375966072083 3.714569174917415e-05\n",
      " tightened 0.6284366250038147 3.7008470826549456e-05\n",
      "  ...\n",
      "rael       -0.4995482563972473 1.197908386529889e-05\n",
      "olia       -0.500451385974884 1.196826997329481e-05\n",
      " Seconds   -0.5145853161811829 1.1800300853792578e-05\n",
      "cair       -0.5323597192764282 1.159240764536662e-05\n",
      "ipop       -0.5784581899642944 1.1070149412262253e-05\n",
      "\n",
      " emergence\n",
      " emergence 2.8817298412323 0.0003520941536407918\n",
      " rise      1.1273601055145264 6.091800969443284e-05\n",
      " emerge    1.0616625547409058 5.704447903553955e-05\n",
      " emerged   1.0416473150253296 5.5914075346663594e-05\n",
      " arrival   1.0068004131317139 5.399919973569922e-05\n",
      " emerges   0.9712783098220825 5.211469760979526e-05\n",
      " emerging  0.9370555281639099 5.036136644775979e-05\n",
      " advent    0.9055238366127014 4.879815969616175e-05\n",
      " resurgence 0.8716245293617249 4.717165575129911e-05\n",
      " onset     0.8632186055183411 4.677679680753499e-05\n",
      "  ...\n",
      "undo       -0.4907161295413971 1.2078808140358888e-05\n",
      "clave      -0.5490554571151733 1.1394302418921143e-05\n",
      "=-=-=-=-   -0.5567450523376465 1.1307019121886697e-05\n",
      "xon        -0.5682372450828552 1.1177819942531642e-05\n",
      "leeve      -0.5888111591339111 1.0950198884529527e-05\n",
      "\n",
      " venom\n",
      " venom     3.3690109252929688 0.0005723979556933045\n",
      " Venom     1.2789907455444336 7.079683564370498e-05\n",
      " poisonous 0.9715794324874878 5.2060324378544465e-05\n",
      " poison    0.8377861976623535 4.554084807750769e-05\n",
      " vitri     0.8081477284431458 4.421089397510514e-05\n",
      " snakes    0.7484638690948486 4.164941856288351e-05\n",
      " sting     0.7427127361297607 4.141057434026152e-05\n",
      " bites     0.7371875047683716 4.118239667150192e-05\n",
      " toxin     0.7169382572174072 4.035687379655428e-05\n",
      " saliva    0.6926881670951843 3.938999361707829e-05\n",
      "  ...\n",
      "gt         -0.5370882749557495 1.1515974620124325e-05\n",
      "akens      -0.5399463176727295 1.1483109119581059e-05\n",
      "chwitz     -0.569060206413269 1.1153610103065148e-05\n",
      "lishes     -0.6045762300491333 1.0764432772703003e-05\n",
      "ieu        -0.6574012041091919 1.021056050376501e-05\n",
      "\n",
      " midnight\n",
      " midnight  2.330801486968994 0.00020375612075440586\n",
      " noon      1.3378692865371704 7.548935536760837e-05\n",
      " midday    1.1395924091339111 6.191204010974616e-05\n",
      " Midnight  1.0492936372756958 5.6566444982308894e-05\n",
      " dusk      0.9499999284744263 5.121959839016199e-05\n",
      " sunset    0.9367246627807617 5.054413850302808e-05\n",
      " sunrise   0.8679556250572205 4.71850908070337e-05\n",
      " dawn      0.7992585301399231 4.405244180816226e-05\n",
      "noon       0.7986961007118225 4.402767444844358e-05\n",
      " nighttime 0.7704724669456482 4.280242865206674e-05\n",
      "  ...\n",
      "jar        -0.358309268951416 1.3843461601936724e-05\n",
      "aunt       -0.3587702214717865 1.3837082406098489e-05\n",
      "jee        -0.3685319423675537 1.3702665455639362e-05\n",
      "aspx       -0.39417222142219543 1.3355791452340782e-05\n",
      "iasis      -0.39808112382888794 1.3303687410370912e-05\n",
      "\n"
     ]
    }
   ],
   "source": [
    "# Attempt to calculate the \"auspicious vectors\" using the Moore-Penrose pseudoinverse\n",
    "ausp1 = torch.nn.functional.normalize(torch.linalg.pinv(unembed.to('cpu')), dim=1)\n",
    "for t in chosen_tokens[:5]:\n",
    "    print(decode(t))\n",
    "    print_embed_vector(ausp1[t,:])\n",
    "    print()\n"
   ]
  },
  {
   "cell_type": "markdown",
   "id": "c522d96d",
   "metadata": {},
   "source": [
    "Next, we want to see if these auspicious vectors can be added to get the result we expect. The expected result is that (a + b) gives a probability vector of 50% a, 50% b."
   ]
  },
  {
   "cell_type": "code",
   "execution_count": 5,
   "id": "dc0d7d38",
   "metadata": {},
   "outputs": [
    {
     "data": {
      "text/plain": [
       "<AxesSubplot:>"
      ]
     },
     "execution_count": 5,
     "metadata": {},
     "output_type": "execute_result"
    },
    {
     "name": "stderr",
     "output_type": "stream",
     "text": [
      "/home/giles/.local/lib/python3.10/site-packages/IPython/core/pylabtools.py:151: UserWarning: Tight layout not applied. The bottom and top margins cannot be made large enough to accommodate all axes decorations.\n",
      "  fig.canvas.print_figure(bytes_io, **kw)\n"
     ]
    },
    {
     "data": {
      "image/png": "[encoded data removed]",
      "text/plain": [
       "<Figure size 432x288 with 1 Axes>"
      ]
     },
     "metadata": {
      "needs_background": "light"
     },
     "output_type": "display_data"
    }
   ],
   "source": [
    "import matplotlib.pyplot as plt\n",
    "plt.rcParams['figure.figsize'] = [16, 1]\n",
    "plt.rcParams[\"figure.autolayout\"] = True\n",
    "\n",
    "num = 30\n",
    "colors = []\n",
    "for i in range(num):\n",
    "    colors.append([])\n",
    "    for j in range(num):\n",
    "        #v1 = 30 * chosen_ausp[i,:]\n",
    "        #v2 = 30 * chosen_ausp[j,:]\n",
    "        v1 = 4 * ausp1[chosen_tokens[i],:]\n",
    "        v2 = 4 * ausp1[chosen_tokens[j],:]\n",
    "        combo = v1 + v2\n",
    "        probs = embed_vector_to_probs(combo)\n",
    "        r = probs[chosen_tokens[i]].item()\n",
    "        g = probs[chosen_tokens[j]].item()\n",
    "        b = 0\n",
    "        colors[-1].append((r,g,b))\n",
    "        \n",
    "fig, ax = plt.subplots()\n",
    "fig.patch.set_visible(False)\n",
    "ax.axis('off')\n",
    "ax.table(cellColours=colors, rowLabels=[decode(t) for t in chosen_tokens[:num]])\n",
    "ax"
   ]
  },
  {
   "cell_type": "code",
   "execution_count": 15,
   "id": "94541c27",
   "metadata": {},
   "outputs": [
    {
     "name": "stdout",
     "output_type": "stream",
     "text": [
      " midnight  9.323205947875977 0.17059829831123352\n",
      " noon      5.351477146148682 0.0032142139971256256\n",
      " midday    4.5583696365356445 0.0014542283024638891\n",
      " Midnight  4.197174549102783 0.001013368833810091\n",
      " dusk      3.799999713897705 0.0006812032661400735\n",
      " sunset    3.746898651123047 0.0006459742435254157\n",
      " sunrise   3.471822500228882 0.0004906267859041691\n",
      " dawn      3.1970341205596924 0.0003727451548911631\n",
      "noon       3.19478440284729 0.0003719074884429574\n",
      " nighttime 3.0818898677825928 0.0003322046250104904\n",
      "  ...\n",
      "jar        -1.433237075805664 3.6350536447571358e-06\n",
      "aunt       -1.435080885887146 3.6283588542573852e-06\n",
      "jee        -1.4741277694702148 3.4894119380624034e-06\n",
      "aspx       -1.5766888856887817 3.1492747893935302e-06\n",
      "iasis      -1.5923244953155518 3.100417416135315e-06\n",
      "\n",
      " prosperity 9.962900161743164 0.27309373021125793\n",
      " prosperous 4.364867210388184 0.0010118518257513642\n",
      " Prosper   3.9723453521728516 0.0006833557272329926\n",
      " prosper   3.356039524078369 0.0003689679142553359\n",
      " wealth    3.2000341415405273 0.0003156722232233733\n",
      " fortune   2.959733009338379 0.00024824179126881063\n",
      " success   2.9506711959838867 0.0002460024261381477\n",
      " happiness 2.9097416400909424 0.00023613686789758503\n",
      " fortunes  2.802467107772827 0.00021211689454503357\n",
      " wellbeing 2.780076742172241 0.00020742030756082386\n",
      "  ...\n",
      " Cosponsors -1.886350154876709 1.9509561752784066e-06\n",
      " altogether -1.9064757823944092 1.9120848264719825e-06\n",
      "edIn       -1.9912831783294678 1.7566117094247602e-06\n",
      "tes        -2.1739327907562256 1.463362877984764e-06\n",
      "tein       -2.2914462089538574 1.3011175497013028e-06\n",
      "\n",
      " prosperity 9.758423805236816 0.20001259446144104\n",
      " midnight  9.022187232971191 0.0957886129617691\n",
      " noon      5.509835243225098 0.002857056213542819\n",
      " dusk      4.567755222320557 0.0011137266410514712\n",
      " midday    4.35271692276001 0.0008982323342934251\n",
      " prosperous 4.268843650817871 0.0008259675232693553\n",
      " dawn      4.265843391418457 0.0008234931156039238\n",
      " Midnight  3.945237159729004 0.0005976163083687425\n",
      " sunrise   3.7561540603637695 0.0004946576664224267\n",
      " morning   3.7146754264831543 0.00047455960884690285\n",
      "  ...\n",
      "ority      -2.3686020374298096 1.0823233651535702e-06\n",
      "Known      -2.3706963062286377 1.0800591780935065e-06\n",
      "aving      -2.387077808380127 1.0625094546412583e-06\n",
      "Generic    -2.4287161827087402 1.0191777164436644e-06\n",
      "hement     -2.658425807952881 8.100060426841083e-07\n"
     ]
    }
   ],
   "source": [
    "def find_ausp(tok):\n",
    "    enc = model.tokenizer.encode(tok)\n",
    "    if len(enc) == 1:\n",
    "        return ausp1[enc[0],:]\n",
    "    else:\n",
    "        raise Exception(f\"Not a single token: {tok}\")\n",
    "\n",
    "token0 = ' midnight'\n",
    "token1 = ' prosperity'\n",
    "v0 = 4 * find_ausp(token0)\n",
    "v1 = 4 * find_ausp(token1)\n",
    "combo = v0 + v1\n",
    "print_embed_vector(v0)\n",
    "print()\n",
    "print_embed_vector(v1)\n",
    "print()\n",
    "print_embed_vector(combo)"
   ]
  },
  {
   "cell_type": "code",
   "execution_count": null,
   "id": "7724156c",
   "metadata": {},
   "outputs": [],
   "source": [
    "num = 30\n",
    "colors = []\n",
    "for i in range(num):\n",
    "    colors.append([])\n",
    "    for j in range(num):\n",
    "        index0 = chosen_tokens[i]\n",
    "        index1 = chosen_tokens[j]\n",
    "        #prompt = f\"If I had to choose between the{decode(index0)} and the{decode(index1)}, I would choose the\"\n",
    "        prompt = f\"{decode(index0)}{decode(index1)}{decode(index1)}{decode(index0)}{decode(index1)}\"\n",
    "        logits = model(prompt)[0, -1, :]\n",
    "        probs = torch.softmax(logits, dim=0)\n",
    "        r = probs[index0].item()\n",
    "        g = probs[index1].item()\n",
    "        colors[-1].append((r,g,b))\n",
    "fig, ax = plt.subplots()\n",
    "fig.patch.set_visible(False)\n",
    "ax.axis('off')\n",
    "ax.table(cellColours=colors, rowLabels=[decode(t) for t in chosen_tokens[:num]])\n",
    "ax"
   ]
  },
  {
   "cell_type": "code",
   "execution_count": null,
   "id": "fb54acd0",
   "metadata": {},
   "outputs": [],
   "source": [
    "num = 30\n",
    "colors = []\n",
    "for i in range(num):\n",
    "    colors.append([])\n",
    "    for j in range(num):\n",
    "        index0 = chosen_tokens[i]\n",
    "        index1 = chosen_tokens[j]\n",
    "        prompt = f\"If I had to choose between the{decode(index0)} and the{decode(index1)}, I would choose the\"\n",
    "        logits = model(prompt)[0, -1, :]\n",
    "        probs = torch.softmax(logits, dim=0)\n",
    "        r = probs[index0].item()\n",
    "        g = probs[index1].item()\n",
    "        colors[-1].append((r,g,b))\n",
    "fig, ax = plt.subplots()\n",
    "fig.patch.set_visible(False)\n",
    "ax.axis('off')\n",
    "ax.table(cellColours=colors, rowLabels=[decode(t) for t in chosen_tokens[:num]])\n",
    "ax"
   ]
  }
 ],
 "metadata": {
  "kernelspec": {
   "display_name": "Python 3 (ipykernel)",
   "language": "python",
   "name": "python3"
  },
  "language_info": {
   "codemirror_mode": {
    "name": "ipython",
    "version": 3
   },
   "file_extension": ".py",
   "mimetype": "text/x-python",
   "name": "python",
   "nbconvert_exporter": "python",
   "pygments_lexer": "ipython3",
   "version": "3.10.8"
  }
 },
 "nbformat": 4,
 "nbformat_minor": 5
}
